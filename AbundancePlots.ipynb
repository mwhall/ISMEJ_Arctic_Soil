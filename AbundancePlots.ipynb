{
 "cells": [
  {
   "cell_type": "code",
   "execution_count": 1,
   "metadata": {},
   "outputs": [],
   "source": [
    "library(ggplot2)\n",
    "library(reshape2)\n",
    "library(grid)\n",
    "library(gridExtra)"
   ]
  },
  {
   "cell_type": "code",
   "execution_count": 2,
   "metadata": {},
   "outputs": [],
   "source": [
    "tab.gephi <- read.table(\"data/positive_edges_minabund500_mincorr0-8.csv\", sep=\",\",header=TRUE)"
   ]
  },
  {
   "cell_type": "code",
   "execution_count": 3,
   "metadata": {},
   "outputs": [],
   "source": [
    "comp.0 <- tab.gephi$id[tab.gephi$componentnumber == 0]\n",
    "comp.2 <- tab.gephi$id[tab.gephi$componentnumber == 2]"
   ]
  },
  {
   "cell_type": "code",
   "execution_count": 4,
   "metadata": {},
   "outputs": [],
   "source": [
    "metadata <- read.table(\"data/metadata.csv\", sep=\"\\t\", header=TRUE, comment.char=\"\")"
   ]
  },
  {
   "cell_type": "code",
   "execution_count": 5,
   "metadata": {},
   "outputs": [],
   "source": [
    "grid_arrange_shared_legend <- function(..., ncol = length(list(...)), nrow = 1, position = c(\"bottom\", \"right\")) {\n",
    "\n",
    "  plots <- list(...)\n",
    "  position <- match.arg(position)\n",
    "  g <- ggplotGrob(plots[[1]] + theme(legend.position = position))$grobs\n",
    "  legend <- g[[which(sapply(g, function(x) x$name) == \"guide-box\")]]\n",
    "  lheight <- sum(legend$height)\n",
    "  lwidth <- sum(legend$width)\n",
    "  gl <- lapply(plots, function(x) x + theme(legend.position=\"none\"))\n",
    "  #gl <- c(gl, ncol = ncol, nrow = nrow)\n",
    "\n",
    "  combined <- switch(position,\n",
    "                     \"bottom\" = arrangeGrob(do.call(arrangeGrob, grobs=gl,layout_matrix=cbind(c(1,1,1,2))),\n",
    "                                            legend,\n",
    "                                            ncol = 1,\n",
    "                                            heights = unit.c(unit(1, \"npc\") - lheight, lheight)),\n",
    "                     \"right\" = arrangeGrob(do.call(arrangeGrob, list(grobs=gl,layout_matrix=cbind(c(1,1,1,2)))),\n",
    "                                           legend,\n",
    "                                           ncol = 2,\n",
    "                                           widths = unit.c(unit(1, \"npc\") - lwidth, lwidth)))\n",
    "\n",
    "  #grid.newpage()\n",
    "  grid.draw(combined)\n",
    "\n",
    "  # return gtable invisibly\n",
    "  invisible(combined)\n",
    "\n",
    "}"
   ]
  },
  {
   "cell_type": "code",
   "execution_count": 6,
   "metadata": {},
   "outputs": [
    {
     "name": "stdout",
     "output_type": "stream",
     "text": [
      " [1] \" p__Acidobacteria\"    \" p__Proteobacteria\"   \" p__Actinobacteria\"  \n",
      " [4] \" p__AD3\"              \" p__WPS-2\"            \" p__Bacteroidetes\"   \n",
      " [7] \" p__Verrucomicrobia\"  \" p__Chloroflexi\"      \" p__Gemmatimonadetes\"\n",
      "[10] \" p__Cyanobacteria\"    \"Other\"               \n"
     ]
    },
    {
     "data": {},
     "metadata": {},
     "output_type": "display_data"
    },
    {
     "data": {
      "image/png": "[encoded data removed]",
      "text/plain": [
       "plot without title"
      ]
     },
     "metadata": {},
     "output_type": "display_data"
    }
   ],
   "source": [
    "options(repr.plot.height=2)\n",
    "otu.table <- read.table(\"data/otu_table.tab\", sep=\"\\t\", header=TRUE, skip=1, comment.char=\"\")\n",
    "# Print out the component tables, normalized to relative abundance\n",
    "otu.table.0 <- otu.table[otu.table$X.OTU.ID %in% comp.0,]\n",
    "otu.table.2 <- otu.table[otu.table$X.OTU.ID %in% comp.2,]\n",
    "otu.tax <- otu.table[,ncol(otu.table)]\n",
    "otu.subtable <- otu.table[,2:ncol(otu.table)-1]\n",
    "otu.col.sums <- colSums(otu.subtable)\n",
    "otu.tax.sums <- rowSums(otu.subtable)\n",
    "otu.table.0[,2:ncol(otu.table.0)-1] <- sweep(otu.table.0[,2:ncol(otu.table.0)-1],2,otu.col.sums,`/`)\n",
    "otu.table.2[,2:ncol(otu.table.2)-1] <- sweep(otu.table.2[,2:ncol(otu.table.2)-1],2,otu.col.sums,`/`)\n",
    "write.table(otu.table.0, \"data/otu_table_mineral_layer_withinsample_relabundance.tab\", sep=\"\\t\")\n",
    "write.table(otu.table.2, \"data/otu_table_organic_layer_withinsample_relabundance.tab\", sep=\"\\t\")\n",
    "\n",
    "#Function to strip out the lowest taxonomic level\n",
    "lastTax <- function(x) {\n",
    "    lT <- NULL\n",
    "    for (i in 1:length(x)) {\n",
    "        if (nchar(x[i]) > 4)\n",
    "            lT <- x[i]\n",
    "            }\n",
    "    return(lT)\n",
    "}\n",
    "twoTax <- function(x) {\n",
    "    return(x[2])\n",
    "}\n",
    "otu.lasttax <- vapply(strsplit(as.vector(otu.tax), \";\"), twoTax, as.vector(\"A\"))\n",
    "m.otu.table <- melt(otu.subtable,id.vars=1)\n",
    "m.otu.table$Depth <- metadata$soil_depth[match(m.otu.table$variable, metadata$sample.id)]\n",
    "m.otu.table$Taxonomy <- vapply(strsplit(as.vector(otu.table$Consensus.Lineage[match(m.otu.table$X.OTU.ID, otu.table$X.OTU.ID)]), \";\"), twoTax,as.vector(\"A\"))\n",
    "\n",
    "overall <- aggregate(m.otu.table$value, FUN=sum, by=list(Taxonomy=m.otu.table$Taxonomy))\n",
    "colnames(overall) <- c(\"Taxonomy\", \"Abundance\")\n",
    "overall <- overall[order(overall$Abundance, decreasing=TRUE),]\n",
    "#For phylum level\n",
    "top10 <- overall$Taxonomy[1:10]\n",
    "top10 <- c(top10, \"Other\")\n",
    "#For class level, we take the unclassifieds (\" c__\") and put them into \"Other\"\n",
    "#top10 <- overall$Taxonomy[1:11]\n",
    "#top10 <- top10[top10!=' c__']\n",
    "#top10 <- c(top10, \"Other\")\n",
    "#For order level, we take the unclassifieds (\" o__\") and put them into \"Other\"\n",
    "#top10 <- overall$Taxonomy[1:20]\n",
    "#top10 <- top10[top10!=' p__']\n",
    "#top10 <- top10[top10!=' c__']\n",
    "tax <- aggregate(m.otu.table$value, FUN=sum, by=list(Depth=m.otu.table$Depth, Taxonomy=m.otu.table$Taxonomy))\n",
    "tax$Taxonomy[! tax$Taxonomy %in% top10] <- \"Other\"\n",
    "#tax<-tax[tax$Taxonomy!=\"Other\",]\n",
    "tax$Taxonomy <- factor(tax$Taxonomy, levels = top10[order(top10)])\n",
    "\n",
    "depthUnique <- unique(tax$Depth)\n",
    "tax$Depth <- factor(tax$Depth, levels = depthUnique[order(depthUnique,decreasing=TRUE)])\n",
    "colnames(tax) <- c(\"Depth\",\"Taxonomy\",\"Abundance\")\n",
    "for (depth in unique(tax$Depth)) {\n",
    "    dtax <- tax$Abundance[tax$Depth==depth]\n",
    "    tax$Abundance[tax$Depth==depth] <- dtax/sum(dtax)\n",
    "}\n",
    "print(top10)\n",
    "#tax$Abundance <- tax$Abundance/sum(tax$Abundance)\n",
    "colours<-c(\"#882E72\",\"#B178A6\",\"#D6C1DE\",\"#1965B0\",\"#5289C7\",\"#7BAFDE\",\"#4EB265\",\"#90C987\",\"#CAE0AB\",\"#F7EE55\",\"#F6C141\", \"#F1932D\",\"#E8601C\",\"#DC050C\")\n",
    "#colours<-c(\"#771155\",\"#AA4488\",\"#CC99BB\",\"#114477\",\"#4477AA\",\"#77AADD\",\"#117777\",\"#44AAAA\",\"#77CCCC\",\"#117744\",\"#44AA77\",\"#88CCAA\",\"#777711\",\"#AAAA44\",\"#DDDD77\",\"#774411\",\"#AA7744\",\"#DDAA77\",\"#771122\",\"#AA4455\")#,\"#DD7788\")\n",
    "p1<-ggplot(tax, aes(x=Depth, group=Taxonomy, y=Abundance, colour=Taxonomy, fill=Taxonomy))+geom_bar(stat='identity')+ theme(legend.position=\"bottom\")+ylab(\"Relative Abundance\")\n",
    "p1<-p1+scale_fill_manual(values=colours)+scale_colour_manual(values=colours)+theme_bw()+theme(axis.text.y = element_text(angle=0), axis.text.x=element_blank(), axis.title.x=element_blank(), axis.ticks=element_blank(), panel.grid.major = element_blank(), panel.grid.minor = element_blank())+xlab(\"Depth (cm)\")+coord_flip()+ guides(fill = guide_legend(ncol = 1))\n",
    "p1"
   ]
  },
  {
   "cell_type": "code",
   "execution_count": 7,
   "metadata": {},
   "outputs": [],
   "source": [
    "otu.table.0 <- otu.table[otu.table$X.OTU.ID %in% comp.0,2:ncol(otu.table)-1]\n",
    "otu.table.2 <- otu.table[otu.table$X.OTU.ID %in% comp.2,2:ncol(otu.table)-1]\n",
    "otu.table.0.sums <- colSums(otu.table.0)\n",
    "otu.table.2.sums <- colSums(otu.table.2)\n",
    "otu.0.tax <- otu.table[otu.table$X.OTU.ID %in% comp.0, ncol(otu.table)]\n",
    "otu.2.tax <- otu.table[otu.table$X.OTU.ID %in% comp.2, ncol(otu.table)]\n",
    "otu.0.tax.sums <- rowSums(otu.table.0)\n",
    "otu.2.tax.sums <- rowSums(otu.table.2)\n",
    "otu.0.lasttax <- vapply(strsplit(as.vector(otu.0.tax), \";\"), twoTax, as.vector(\"A\"))\n",
    "otu.2.lasttax <- vapply(strsplit(as.vector(otu.2.tax), \";\"), twoTax, as.vector(\"A\"))"
   ]
  },
  {
   "cell_type": "code",
   "execution_count": 8,
   "metadata": {},
   "outputs": [
    {
     "name": "stdout",
     "output_type": "stream",
     "text": [
      "               Taxonomy    Abundance Component\n",
      "1      p__Acidobacteria 0.1789735047   Mineral\n",
      "2     p__Actinobacteria 0.0867309029   Mineral\n",
      "3                p__AD3 0.1732695994   Mineral\n",
      "4      p__Bacteroidetes 0.0398596961   Mineral\n",
      "5           p__Chlorobi 0.0070861831   Mineral\n",
      "6        p__Chloroflexi 0.0560117199   Mineral\n",
      "7      p__Cyanobacteria 0.0035363945   Mineral\n",
      "8         p__Firmicutes 0.0122409275   Mineral\n",
      "9   p__Gemmatimonadetes 0.0496622159   Mineral\n",
      "10       p__Nitrospirae 0.0072325143   Mineral\n",
      "11    p__Proteobacteria 0.2779309363   Mineral\n",
      "12   p__Verrucomicrobia 0.0520862249   Mineral\n",
      "13             p__WPS-2 0.0553791804   Mineral\n",
      "14     p__Acidobacteria 0.5995961633   Organic\n",
      "15    p__Actinobacteria 0.1195803074   Organic\n",
      "16   p__Armatimonadetes 0.0007217234   Organic\n",
      "17     p__Bacteroidetes 0.0146307421   Organic\n",
      "18    p__Proteobacteria 0.2502935770   Organic\n",
      "19   p__Verrucomicrobia 0.0132989020   Organic\n",
      "20             p__WPS-2 0.0018785847   Organic\n",
      "               Taxonomy    Abundance Component\n",
      "1      p__Acidobacteria 0.1789735047   Mineral\n",
      "2     p__Actinobacteria 0.0867309029   Mineral\n",
      "3                p__AD3 0.1732695994   Mineral\n",
      "4      p__Bacteroidetes 0.0398596961   Mineral\n",
      "5                 Other 0.0070861831   Mineral\n",
      "6        p__Chloroflexi 0.0560117199   Mineral\n",
      "7      p__Cyanobacteria 0.0035363945   Mineral\n",
      "8                 Other 0.0122409275   Mineral\n",
      "9   p__Gemmatimonadetes 0.0496622159   Mineral\n",
      "10                Other 0.0072325143   Mineral\n",
      "11    p__Proteobacteria 0.2779309363   Mineral\n",
      "12   p__Verrucomicrobia 0.0520862249   Mineral\n",
      "13             p__WPS-2 0.0553791804   Mineral\n",
      "14     p__Acidobacteria 0.5995961633   Organic\n",
      "15    p__Actinobacteria 0.1195803074   Organic\n",
      "16                Other 0.0007217234   Organic\n",
      "17     p__Bacteroidetes 0.0146307421   Organic\n",
      "18    p__Proteobacteria 0.2502935770   Organic\n",
      "19   p__Verrucomicrobia 0.0132989020   Organic\n",
      "20             p__WPS-2 0.0018785847   Organic\n"
     ]
    },
    {
     "data": {
      "text/plain": [
       "TableGrob (1 x 2) \"arrange\": 2 grobs\n",
       "  z     cells    name              grob\n",
       "1 1 (1-1,1-1) arrange   gtable[arrange]\n",
       "2 2 (1-1,2-2) arrange gtable[guide-box]"
      ]
     },
     "metadata": {},
     "output_type": "display_data"
    },
    {
     "data": {
      "text/html": [
       "<strong>png:</strong> 2"
      ],
      "text/latex": [
       "\\textbf{png:} 2"
      ],
      "text/markdown": [
       "**png:** 2"
      ],
      "text/plain": [
       "png \n",
       "  2 "
      ]
     },
     "metadata": {},
     "output_type": "display_data"
    },
    {
     "data": {},
     "metadata": {},
     "output_type": "display_data"
    },
    {
     "data": {
      "image/png": "[encoded data removed]",
      "text/plain": [
       "plot without title"
      ]
     },
     "metadata": {},
     "output_type": "display_data"
    }
   ],
   "source": [
    "tax.0 <- data.frame(Taxonomy=otu.0.lasttax, Abundance = otu.0.tax.sums)\n",
    "tax.2 <- data.frame(Taxonomy=otu.2.lasttax, Abundance = otu.2.tax.sums)\n",
    "tax.0 <- aggregate(tax.0$Abundance, FUN=sum, by=list(Taxonomy=tax.0$Taxonomy))\n",
    "colnames(tax.0) <- c(\"Taxonomy\",\"Abundance\")\n",
    "#tax.0 <- tax.0[tax.0$Taxonomy %in% top10,]\n",
    "tax.0$Abundance <- tax.0$Abundance/sum(tax.0$Abundance)\n",
    "tax.2 <- aggregate(tax.2$Abundance, FUN=sum, by=list(Taxonomy=tax.2$Taxonomy))\n",
    "colnames(tax.2) <- c(\"Taxonomy\",\"Abundance\")\n",
    "#tax.2 <- tax.2[tax.2$Taxonomy %in% top10,]\n",
    "tax.2$Abundance <- tax.2$Abundance/sum(tax.2$Abundance)\n",
    "taxdf <- rbind(tax.0, tax.2)\n",
    "taxdf$Component <- c(rep(\"Mineral\", length(tax.0$Abundance)), rep(\"Organic\", length(tax.2$Abundance)))\n",
    "taxdf$Taxonomy <- as.vector(taxdf$Taxonomy)\n",
    "print(taxdf)\n",
    "taxdf$Taxonomy[! taxdf$Taxonomy %in% top10] <- \"Other\"\n",
    "taxdf$Taxonomy <- factor(taxdf$Taxonomy, levels = top10[order(top10)])\n",
    "print(taxdf)\n",
    "pdf(\"phylum_bar_rotated_top10.pdf\", height=6,width=6)\n",
    "colours<-c(\"#882E72\",\"#B178A6\",\"#D6C1DE\",\"#1965B0\",\"#5289C7\",\"#7BAFDE\",\"#4EB265\",\"#90C987\",\"#CAE0AB\",\"#F7EE55\",\"#F6C141\")#,\"#F1932D\",\"#E8601C\",\"#DC050C\")\n",
    "#colours<-c(\"#771155\",\"#AA4488\",\"#CC99BB\",\"#114477\",\"#4477AA\",\"#77AADD\",\"#117777\",\"#44AAAA\",\"#77CCCC\",\"#117744\",\"#44AA77\",\"#88CCAA\",\"#777711\",\"#AAAA44\",\"#DDDD77\",\"#774411\",\"#AA7744\",\"#DDAA77\",\"#771122\",\"#AA4455\")#,\"#DD7788\")\n",
    "p2<-ggplot(taxdf, aes(x=Component, group=Taxonomy, y=Abundance, colour=Taxonomy, fill=Taxonomy))+geom_bar(stat='identity')+ theme(legend.position=\"bottom\")+ylab(\"Relative Abundance\")\n",
    "p2<-p2+scale_fill_manual(values=colours,drop=FALSE)+scale_colour_manual(values=colours,drop=FALSE)+theme_bw()+theme(axis.ticks=element_blank(), panel.grid.major = element_blank(), panel.grid.minor = element_blank(), axis.text.y = element_text(angle=90, hjust=0.5))+coord_flip()\n",
    "pfull<-grid_arrange_shared_legend(p1,p2,ncol=1,nrow=4,position='right')\n",
    "pfull\n",
    "dev.off()\n",
    "p2"
   ]
  },
  {
   "cell_type": "code",
   "execution_count": 9,
   "metadata": {},
   "outputs": [],
   "source": [
    "melt.0 <- melt(otu.table.0.sums[2:length(otu.table.0.sums)])\n",
    "melt.2 <- melt(otu.table.2.sums[2:length(otu.table.2.sums)])"
   ]
  },
  {
   "cell_type": "code",
   "execution_count": 10,
   "metadata": {},
   "outputs": [],
   "source": [
    "melt.0$Depth <- metadata[match(rownames(melt.0), metadata[,1]), \"soil_depth\"]\n",
    "melt.2$Depth <- metadata[match(rownames(melt.2), metadata[,1]), \"soil_depth\"]"
   ]
  },
  {
   "cell_type": "code",
   "execution_count": 11,
   "metadata": {},
   "outputs": [],
   "source": [
    "colnames(melt.0) <- c(\"Abundance\", \"Depth\")\n",
    "colnames(melt.2) <- c(\"Abundance\", \"Depth\")"
   ]
  },
  {
   "cell_type": "code",
   "execution_count": 12,
   "metadata": {},
   "outputs": [],
   "source": [
    "se <- function(x) {\n",
    "    sem <- sd(x)/sqrt(length(x))\n",
    "    return(sem)\n",
    "}"
   ]
  },
  {
   "cell_type": "code",
   "execution_count": 13,
   "metadata": {},
   "outputs": [
    {
     "data": {},
     "metadata": {},
     "output_type": "display_data"
    },
    {
     "data": {
      "text/html": [
       "<strong>png:</strong> 2"
      ],
      "text/latex": [
       "\\textbf{png:} 2"
      ],
      "text/markdown": [
       "**png:** 2"
      ],
      "text/plain": [
       "png \n",
       "  2 "
      ]
     },
     "metadata": {},
     "output_type": "display_data"
    },
    {
     "data": {},
     "metadata": {},
     "output_type": "display_data"
    },
    {
     "data": {
      "image/png": "[encoded data removed]",
      "text/plain": [
       "plot without title"
      ]
     },
     "metadata": {},
     "output_type": "display_data"
    }
   ],
   "source": [
    "#0 must be green\n",
    "#Convert to means and sd\n",
    "melt.0.mean <- aggregate(melt.0$Abundance, by=list(Depth=melt.0$Depth), FUN=mean)\n",
    "colnames(melt.0.mean) <- c(\"Depth\", \"Mean\")\n",
    "melt.0.se <- aggregate(melt.0$Abundance, by=list(Depth=melt.0$Depth), FUN=se)\n",
    "melt.0.mean$SE <- melt.0.se$x\n",
    "melt.0.mean$Depth <- factor(melt.0.mean$Depth, levels=unique(melt.0.mean$Depth)[order(unique(melt.0.mean$Depth),decreasing=TRUE)])\n",
    "p <- ggplot(melt.0.mean, aes(x=as.factor(Depth), y=Mean)) + geom_errorbar(aes(ymin=Mean-SE, ymax=Mean+SE,width=0.5)) + geom_bar(position=position_dodge(), stat='identity', fill='#CC6677', col='#CC6677')\n",
    "p <- p + xlab(\"Depth (cm)\") + ylab(\"Abundance\")+theme_bw()+theme(axis.ticks=element_blank(), panel.grid.major = element_blank(), panel.grid.minor = element_blank())+coord_flip()\n",
    "pdf(\"Mineral_layer_inset.pdf\", height=3, width=3)\n",
    "p\n",
    "dev.off()\n",
    "p"
   ]
  },
  {
   "cell_type": "code",
   "execution_count": 14,
   "metadata": {},
   "outputs": [
    {
     "data": {},
     "metadata": {},
     "output_type": "display_data"
    },
    {
     "data": {
      "text/html": [
       "<strong>png:</strong> 2"
      ],
      "text/latex": [
       "\\textbf{png:} 2"
      ],
      "text/markdown": [
       "**png:** 2"
      ],
      "text/plain": [
       "png \n",
       "  2 "
      ]
     },
     "metadata": {},
     "output_type": "display_data"
    },
    {
     "data": {},
     "metadata": {},
     "output_type": "display_data"
    },
    {
     "data": {
      "image/png": "[encoded data removed]",
      "text/plain": [
       "plot without title"
      ]
     },
     "metadata": {},
     "output_type": "display_data"
    }
   ],
   "source": [
    "#0 must be pink\n",
    "#Convert to means and sd\n",
    "melt.2.mean <- aggregate(melt.2$Abundance, by=list(Depth=melt.2$Depth), FUN=mean)\n",
    "colnames(melt.2.mean) <- c(\"Depth\", \"Mean\")\n",
    "melt.2.se <- aggregate(melt.0$Abundance, by=list(Depth=melt.2$Depth), FUN=se)\n",
    "melt.2.mean$SEU <- melt.2.mean$Mean + melt.2.se$x\n",
    "melt.2.mean$SEL <- melt.2.mean$Mean - melt.2.se$x\n",
    "melt.2.mean$SEL[melt.2.mean$SEL < 0] <- 0\n",
    "melt.2.mean$Depth <- factor(melt.2.mean$Depth, levels=unique(melt.2.mean$Depth)[order(unique(melt.2.mean$Depth),decreasing=TRUE)])\n",
    "p <- ggplot(melt.2.mean, aes(x=as.factor(Depth), y=Mean)) + geom_errorbar(aes(ymin=SEL, ymax=SEU, width=0.5)) + geom_bar(position=position_dodge(), stat='identity', fill='#88CCEE', col='#88CCEE')\n",
    "p <- p + xlab(\"Depth (cm)\") + ylab(\"Abundance\")+theme_bw()+theme(axis.ticks=element_blank(),panel.grid.major = element_blank(), panel.grid.minor = element_blank())+coord_flip()\n",
    "pdf(\"Organic_layer_inset.pdf\", height=3, width=3)\n",
    "p\n",
    "dev.off()\n",
    "p"
   ]
  },
  {
   "cell_type": "code",
   "execution_count": 15,
   "metadata": {},
   "outputs": [
    {
     "data": {
      "text/html": [
       "0.179656418352125"
      ],
      "text/latex": [
       "0.179656418352125"
      ],
      "text/markdown": [
       "0.179656418352125"
      ],
      "text/plain": [
       "[1] 0.1796564"
      ]
     },
     "metadata": {},
     "output_type": "display_data"
    },
    {
     "data": {
      "text/html": [
       "0.183719615602035"
      ],
      "text/latex": [
       "0.183719615602035"
      ],
      "text/markdown": [
       "0.183719615602035"
      ],
      "text/plain": [
       "[1] 0.1837196"
      ]
     },
     "metadata": {},
     "output_type": "display_data"
    }
   ],
   "source": [
    "#Percentage of Unclassified OTUs by sequence count\n",
    "sum(otu.table[otu.table$Consensus.Lineage==\"Unclassified\",2:ncol(otu.table)-1])/sum(otu.table[,2:ncol(otu.table)-1])*100\n",
    "#Percentage of Unclassified OTUs\n",
    "dim(otu.table[otu.table$Consensus.Lineage==\"Unclassified\",])[1]/dim(otu.table)[1]*100"
   ]
  },
  {
   "cell_type": "code",
   "execution_count": 16,
   "metadata": {},
   "outputs": [
    {
     "data": {
      "text/plain": [
       "R version 3.4.4 (2018-03-15)\n",
       "Platform: x86_64-pc-linux-gnu (64-bit)\n",
       "Running under: Ubuntu 18.04.1 LTS\n",
       "\n",
       "Matrix products: default\n",
       "BLAS: /usr/lib/x86_64-linux-gnu/blas/libblas.so.3.7.1\n",
       "LAPACK: /usr/lib/x86_64-linux-gnu/lapack/liblapack.so.3.7.1\n",
       "\n",
       "locale:\n",
       " [1] LC_CTYPE=en_CA.UTF-8       LC_NUMERIC=C              \n",
       " [3] LC_TIME=en_CA.UTF-8        LC_COLLATE=en_CA.UTF-8    \n",
       " [5] LC_MONETARY=en_CA.UTF-8    LC_MESSAGES=en_CA.UTF-8   \n",
       " [7] LC_PAPER=en_CA.UTF-8       LC_NAME=C                 \n",
       " [9] LC_ADDRESS=C               LC_TELEPHONE=C            \n",
       "[11] LC_MEASUREMENT=en_CA.UTF-8 LC_IDENTIFICATION=C       \n",
       "\n",
       "attached base packages:\n",
       "[1] grid      stats     graphics  grDevices utils     datasets  methods  \n",
       "[8] base     \n",
       "\n",
       "other attached packages:\n",
       "[1] gridExtra_2.3  reshape2_1.4.3 ggplot2_3.1.0 \n",
       "\n",
       "loaded via a namespace (and not attached):\n",
       " [1] Rcpp_0.12.19         pillar_1.3.0         compiler_3.4.4      \n",
       " [4] plyr_1.8.4           bindr_0.1.1          base64enc_0.1-3     \n",
       " [7] tools_3.4.4          digest_0.6.18        uuid_0.1-2          \n",
       "[10] jsonlite_1.5         evaluate_0.12        tibble_1.4.2        \n",
       "[13] gtable_0.2.0         pkgconfig_2.0.2      rlang_0.3.0.1       \n",
       "[16] IRdisplay_0.6        IRkernel_0.8.12.9000 bindrcpp_0.2.2      \n",
       "[19] repr_0.15.0          withr_2.1.2          dplyr_0.7.7         \n",
       "[22] stringr_1.3.1        tidyselect_0.2.5     glue_1.3.0          \n",
       "[25] R6_2.3.0             pbdZMQ_0.3-3         purrr_0.2.5         \n",
       "[28] magrittr_1.5         scales_1.0.0         htmltools_0.3.6     \n",
       "[31] assertthat_0.2.0     colorspace_1.3-2     labeling_0.3        \n",
       "[34] stringi_1.2.4        lazyeval_0.2.1       munsell_0.5.0       \n",
       "[37] crayon_1.3.4        "
      ]
     },
     "metadata": {},
     "output_type": "display_data"
    }
   ],
   "source": [
    "sessionInfo()"
   ]
  },
  {
   "cell_type": "code",
   "execution_count": null,
   "metadata": {},
   "outputs": [],
   "source": []
  }
 ],
 "metadata": {
  "kernelspec": {
   "display_name": "R",
   "language": "R",
   "name": "ir"
  },
  "language_info": {
   "codemirror_mode": "r",
   "file_extension": ".r",
   "mimetype": "text/x-r-source",
   "name": "R",
   "pygments_lexer": "r",
   "version": "3.4.4"
  }
 },
 "nbformat": 4,
 "nbformat_minor": 2
}
