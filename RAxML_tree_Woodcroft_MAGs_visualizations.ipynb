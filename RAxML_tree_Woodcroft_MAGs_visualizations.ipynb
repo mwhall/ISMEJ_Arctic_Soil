{
 "cells": [
  {
   "cell_type": "code",
   "execution_count": 1,
   "metadata": {},
   "outputs": [
    {
     "name": "stderr",
     "output_type": "stream",
     "text": [
      "ggtree v1.12.7  For help: https://guangchuangyu.github.io/software/ggtree\n",
      "\n",
      "If you use ggtree in published research, please cite:\n",
      "Guangchuang Yu, David Smith, Huachen Zhu, Yi Guan, Tommy Tsan-Yuk Lam. ggtree: an R package for visualization and annotation of phylogenetic trees with their covariates and other associated data. Methods in Ecology and Evolution 2017, 8(1):28-36, doi:10.1111/2041-210X.12628\n"
     ]
    }
   ],
   "source": [
    "library(ggtree)\n",
    "library(treeio)"
   ]
  },
  {
   "cell_type": "code",
   "execution_count": 36,
   "metadata": {},
   "outputs": [],
   "source": [
    "tree <- read.tree(\"data/Woodcroft_MAG_Christiansen_OTU_combined_tree.tree\")\n",
    "annots <- read.table(\"data/tree_annotations.txt\", sep=\"\\t\", header=1)\n",
    "otu_table <- read.table(\"data/otu_table.tab\", sep=\"\\t\", skip=1, comment.char=\"\", header=TRUE)\n",
    "otu_table$abundance <- rowSums(otu_table[,colnames(otu_table)[! colnames(otu_table) %in% c(\"X.OTU.ID\", \"Consensus.Lineage\")]])\n",
    "colnames(annots) <- c(\"taxa\", \"taxa_label\")\n",
    "row.names(annots) <- NULL\n",
    "rownames(otu_table) <- otu_table$X.OTU.ID\n",
    "ids <- annots$taxa[annots$taxa %in% rownames(otu_table)]\n",
    "annots$abundance <- NA\n",
    "annots$abundance[annots$taxa %in% rownames(otu_table)] <- otu_table$abundance[ids]\n",
    "annots$dataset <- \"Woodcroft\"\n",
    "annots$dataset[annots$taxa %in% rownames(otu_table)] <- \"Christiansen\"\n",
    "annots$id <- annots$taxa"
   ]
  },
  {
   "cell_type": "code",
   "execution_count": null,
   "metadata": {},
   "outputs": [],
   "source": []
  },
  {
   "cell_type": "code",
   "execution_count": 105,
   "metadata": {},
   "outputs": [],
   "source": [
    "#options(repr.plot.height=100, repr.plot.width=60)\n",
    "p<-ggtree(tree, branch.length=\"none\") %<+% annots + geom_label(aes(color=dataset, label=taxa_label), nudge_x=10) + geom_tippoint(aes(size=abundance), color=\"blue\") + geom_tiplab(aes(label=abundance))"
   ]
  },
  {
   "cell_type": "code",
   "execution_count": 108,
   "metadata": {
    "scrolled": false
   },
   "outputs": [
    {
     "name": "stderr",
     "output_type": "stream",
     "text": [
      "Warning message:\n",
      "“Removed 7369 rows containing missing values (geom_label).”Warning message:\n",
      "“Removed 283 rows containing missing values (geom_point_g_gtree).”"
     ]
    },
    {
     "data": {},
     "metadata": {},
     "output_type": "display_data"
    },
    {
     "data": {
      "text/html": [
       "<strong>png:</strong> 2"
      ],
      "text/latex": [
       "\\textbf{png:} 2"
      ],
      "text/markdown": [
       "**png:** 2"
      ],
      "text/plain": [
       "png \n",
       "  2 "
      ]
     },
     "metadata": {},
     "output_type": "display_data"
    },
    {
     "name": "stderr",
     "output_type": "stream",
     "text": [
      "Warning message:\n",
      "“Removed 7369 rows containing missing values (geom_label).”Warning message:\n",
      "“Removed 283 rows containing missing values (geom_point_g_gtree).”"
     ]
    },
    {
     "data": {},
     "metadata": {},
     "output_type": "display_data"
    },
    {
     "data": {
      "text/html": [
       "<strong>png:</strong> 2"
      ],
      "text/latex": [
       "\\textbf{png:} 2"
      ],
      "text/markdown": [
       "**png:** 2"
      ],
      "text/plain": [
       "png \n",
       "  2 "
      ]
     },
     "metadata": {},
     "output_type": "display_data"
    },
    {
     "name": "stderr",
     "output_type": "stream",
     "text": [
      "Warning message:\n",
      "“Removed 7369 rows containing missing values (geom_label).”Warning message:\n",
      "“Removed 283 rows containing missing values (geom_point_g_gtree).”"
     ]
    },
    {
     "data": {},
     "metadata": {},
     "output_type": "display_data"
    },
    {
     "data": {
      "text/html": [
       "<strong>png:</strong> 2"
      ],
      "text/latex": [
       "\\textbf{png:} 2"
      ],
      "text/markdown": [
       "**png:** 2"
      ],
      "text/plain": [
       "png \n",
       "  2 "
      ]
     },
     "metadata": {},
     "output_type": "display_data"
    },
    {
     "name": "stderr",
     "output_type": "stream",
     "text": [
      "Warning message:\n",
      "“Removed 7369 rows containing missing values (geom_label).”Warning message:\n",
      "“Removed 283 rows containing missing values (geom_point_g_gtree).”"
     ]
    },
    {
     "data": {},
     "metadata": {},
     "output_type": "display_data"
    },
    {
     "data": {
      "text/html": [
       "<strong>png:</strong> 2"
      ],
      "text/latex": [
       "\\textbf{png:} 2"
      ],
      "text/markdown": [
       "**png:** 2"
      ],
      "text/plain": [
       "png \n",
       "  2 "
      ]
     },
     "metadata": {},
     "output_type": "display_data"
    }
   ],
   "source": [
    "options(repr.plot.height=100, repr.plot.width=60)\n",
    "pdf(\"Acidi_tree.pdf\", height=90, width=55)\n",
    "viewClade(p, node = 8444)\n",
    "dev.off()\n",
    "pdf(\"AD3_tree.pdf\", height=30, width=35)\n",
    "viewClade(p, node = 9608)\n",
    "dev.off()\n",
    "pdf(\"WPS2_tree.pdf\", height=20, width=35)\n",
    "viewClade(p, node=7404)\n",
    "dev.off()\n",
    "pdf(\"WPS2_tree_2.pdf\", height=10, width=35)\n",
    "viewClade(p, node=7960)\n",
    "dev.off()"
   ]
  },
  {
   "cell_type": "code",
   "execution_count": 41,
   "metadata": {},
   "outputs": [
    {
     "data": {
      "text/html": [
       "7961"
      ],
      "text/latex": [
       "7961"
      ],
      "text/markdown": [
       "7961"
      ],
      "text/plain": [
       "[1] 7961"
      ]
     },
     "metadata": {},
     "output_type": "display_data"
    }
   ],
   "source": [
    "    "
   ]
  },
  {
   "cell_type": "code",
   "execution_count": null,
   "metadata": {},
   "outputs": [],
   "source": []
  }
 ],
 "metadata": {
  "kernelspec": {
   "display_name": "R",
   "language": "R",
   "name": "ir"
  },
  "language_info": {
   "codemirror_mode": "r",
   "file_extension": ".r",
   "mimetype": "text/x-r-source",
   "name": "R",
   "pygments_lexer": "r",
   "version": "3.4.4"
  }
 },
 "nbformat": 4,
 "nbformat_minor": 2
}
